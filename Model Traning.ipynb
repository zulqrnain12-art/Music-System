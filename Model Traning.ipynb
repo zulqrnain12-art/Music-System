{
 "cells": [
  {
   "cell_type": "code",
   "execution_count": 49,
   "id": "4e153d80-6ae6-4c00-9a18-3e040a4df81d",
   "metadata": {},
   "outputs": [],
   "source": [
    "import pandas as pd"
   ]
  },
  {
   "cell_type": "code",
   "execution_count": 51,
   "id": "13461bd7-1ba1-4c4a-9bea-7e7d5d1718af",
   "metadata": {},
   "outputs": [],
   "source": [
    "df= pd.read_csv(\"spotify_millsongdata.csv\")"
   ]
  },
  {
   "cell_type": "code",
   "execution_count": 52,
   "id": "e2d1d200-20b5-450e-bccc-908057efc32c",
   "metadata": {},
   "outputs": [
    {
     "data": {
      "text/html": [
       "<div>\n",
       "<style scoped>\n",
       "    .dataframe tbody tr th:only-of-type {\n",
       "        vertical-align: middle;\n",
       "    }\n",
       "\n",
       "    .dataframe tbody tr th {\n",
       "        vertical-align: top;\n",
       "    }\n",
       "\n",
       "    .dataframe thead th {\n",
       "        text-align: right;\n",
       "    }\n",
       "</style>\n",
       "<table border=\"1\" class=\"dataframe\">\n",
       "  <thead>\n",
       "    <tr style=\"text-align: right;\">\n",
       "      <th></th>\n",
       "      <th>artist</th>\n",
       "      <th>song</th>\n",
       "      <th>link</th>\n",
       "      <th>text</th>\n",
       "    </tr>\n",
       "  </thead>\n",
       "  <tbody>\n",
       "    <tr>\n",
       "      <th>0</th>\n",
       "      <td>ABBA</td>\n",
       "      <td>Ahe's My Kind Of Girl</td>\n",
       "      <td>/a/abba/ahes+my+kind+of+girl_20598417.html</td>\n",
       "      <td>Look at her face, it's a wonderful face  \\r\\nA...</td>\n",
       "    </tr>\n",
       "    <tr>\n",
       "      <th>1</th>\n",
       "      <td>ABBA</td>\n",
       "      <td>Andante, Andante</td>\n",
       "      <td>/a/abba/andante+andante_20002708.html</td>\n",
       "      <td>Take it easy with me, please  \\r\\nTouch me gen...</td>\n",
       "    </tr>\n",
       "    <tr>\n",
       "      <th>2</th>\n",
       "      <td>ABBA</td>\n",
       "      <td>As Good As New</td>\n",
       "      <td>/a/abba/as+good+as+new_20003033.html</td>\n",
       "      <td>I'll never know why I had to go  \\r\\nWhy I had...</td>\n",
       "    </tr>\n",
       "    <tr>\n",
       "      <th>3</th>\n",
       "      <td>ABBA</td>\n",
       "      <td>Bang</td>\n",
       "      <td>/a/abba/bang_20598415.html</td>\n",
       "      <td>Making somebody happy is a question of give an...</td>\n",
       "    </tr>\n",
       "    <tr>\n",
       "      <th>4</th>\n",
       "      <td>ABBA</td>\n",
       "      <td>Bang-A-Boomerang</td>\n",
       "      <td>/a/abba/bang+a+boomerang_20002668.html</td>\n",
       "      <td>Making somebody happy is a question of give an...</td>\n",
       "    </tr>\n",
       "  </tbody>\n",
       "</table>\n",
       "</div>"
      ],
      "text/plain": [
       "  artist                   song                                        link  \\\n",
       "0   ABBA  Ahe's My Kind Of Girl  /a/abba/ahes+my+kind+of+girl_20598417.html   \n",
       "1   ABBA       Andante, Andante       /a/abba/andante+andante_20002708.html   \n",
       "2   ABBA         As Good As New        /a/abba/as+good+as+new_20003033.html   \n",
       "3   ABBA                   Bang                  /a/abba/bang_20598415.html   \n",
       "4   ABBA       Bang-A-Boomerang      /a/abba/bang+a+boomerang_20002668.html   \n",
       "\n",
       "                                                text  \n",
       "0  Look at her face, it's a wonderful face  \\r\\nA...  \n",
       "1  Take it easy with me, please  \\r\\nTouch me gen...  \n",
       "2  I'll never know why I had to go  \\r\\nWhy I had...  \n",
       "3  Making somebody happy is a question of give an...  \n",
       "4  Making somebody happy is a question of give an...  "
      ]
     },
     "execution_count": 52,
     "metadata": {},
     "output_type": "execute_result"
    }
   ],
   "source": [
    "df.head(5)"
   ]
  },
  {
   "cell_type": "code",
   "execution_count": 53,
   "id": "55cbc604-f5ae-4d89-b77d-34dcf408a3bd",
   "metadata": {},
   "outputs": [
    {
     "data": {
      "text/html": [
       "<div>\n",
       "<style scoped>\n",
       "    .dataframe tbody tr th:only-of-type {\n",
       "        vertical-align: middle;\n",
       "    }\n",
       "\n",
       "    .dataframe tbody tr th {\n",
       "        vertical-align: top;\n",
       "    }\n",
       "\n",
       "    .dataframe thead th {\n",
       "        text-align: right;\n",
       "    }\n",
       "</style>\n",
       "<table border=\"1\" class=\"dataframe\">\n",
       "  <thead>\n",
       "    <tr style=\"text-align: right;\">\n",
       "      <th></th>\n",
       "      <th>artist</th>\n",
       "      <th>song</th>\n",
       "      <th>link</th>\n",
       "      <th>text</th>\n",
       "    </tr>\n",
       "  </thead>\n",
       "  <tbody>\n",
       "    <tr>\n",
       "      <th>57645</th>\n",
       "      <td>Ziggy Marley</td>\n",
       "      <td>Good Old Days</td>\n",
       "      <td>/z/ziggy+marley/good+old+days_10198588.html</td>\n",
       "      <td>Irie days come on play  \\r\\nLet the angels fly...</td>\n",
       "    </tr>\n",
       "    <tr>\n",
       "      <th>57646</th>\n",
       "      <td>Ziggy Marley</td>\n",
       "      <td>Hand To Mouth</td>\n",
       "      <td>/z/ziggy+marley/hand+to+mouth_20531167.html</td>\n",
       "      <td>Power to the workers  \\r\\nMore power  \\r\\nPowe...</td>\n",
       "    </tr>\n",
       "    <tr>\n",
       "      <th>57647</th>\n",
       "      <td>Zwan</td>\n",
       "      <td>Come With Me</td>\n",
       "      <td>/z/zwan/come+with+me_20148981.html</td>\n",
       "      <td>all you need  \\r\\nis something i'll believe  \\...</td>\n",
       "    </tr>\n",
       "    <tr>\n",
       "      <th>57648</th>\n",
       "      <td>Zwan</td>\n",
       "      <td>Desire</td>\n",
       "      <td>/z/zwan/desire_20148986.html</td>\n",
       "      <td>northern star  \\r\\nam i frightened  \\r\\nwhere ...</td>\n",
       "    </tr>\n",
       "    <tr>\n",
       "      <th>57649</th>\n",
       "      <td>Zwan</td>\n",
       "      <td>Heartsong</td>\n",
       "      <td>/z/zwan/heartsong_20148991.html</td>\n",
       "      <td>come in  \\r\\nmake yourself at home  \\r\\ni'm a ...</td>\n",
       "    </tr>\n",
       "  </tbody>\n",
       "</table>\n",
       "</div>"
      ],
      "text/plain": [
       "             artist           song  \\\n",
       "57645  Ziggy Marley  Good Old Days   \n",
       "57646  Ziggy Marley  Hand To Mouth   \n",
       "57647          Zwan   Come With Me   \n",
       "57648          Zwan         Desire   \n",
       "57649          Zwan      Heartsong   \n",
       "\n",
       "                                              link  \\\n",
       "57645  /z/ziggy+marley/good+old+days_10198588.html   \n",
       "57646  /z/ziggy+marley/hand+to+mouth_20531167.html   \n",
       "57647           /z/zwan/come+with+me_20148981.html   \n",
       "57648                 /z/zwan/desire_20148986.html   \n",
       "57649              /z/zwan/heartsong_20148991.html   \n",
       "\n",
       "                                                    text  \n",
       "57645  Irie days come on play  \\r\\nLet the angels fly...  \n",
       "57646  Power to the workers  \\r\\nMore power  \\r\\nPowe...  \n",
       "57647  all you need  \\r\\nis something i'll believe  \\...  \n",
       "57648  northern star  \\r\\nam i frightened  \\r\\nwhere ...  \n",
       "57649  come in  \\r\\nmake yourself at home  \\r\\ni'm a ...  "
      ]
     },
     "execution_count": 53,
     "metadata": {},
     "output_type": "execute_result"
    }
   ],
   "source": [
    "df.tail(5)"
   ]
  },
  {
   "cell_type": "code",
   "execution_count": 54,
   "id": "e71465dc-3dd4-4047-ab20-b4fbb69808ff",
   "metadata": {},
   "outputs": [
    {
     "data": {
      "text/plain": [
       "(57650, 4)"
      ]
     },
     "execution_count": 54,
     "metadata": {},
     "output_type": "execute_result"
    }
   ],
   "source": [
    "df.shape"
   ]
  },
  {
   "cell_type": "code",
   "execution_count": 55,
   "id": "62863a56-cbac-4544-bcc7-a1c53e139edd",
   "metadata": {},
   "outputs": [
    {
     "data": {
      "text/plain": [
       "artist    0\n",
       "song      0\n",
       "link      0\n",
       "text      0\n",
       "dtype: int64"
      ]
     },
     "execution_count": 55,
     "metadata": {},
     "output_type": "execute_result"
    }
   ],
   "source": [
    "df.isnull().sum()"
   ]
  },
  {
   "cell_type": "code",
   "execution_count": 56,
   "id": "63ccb410-b2ec-41ee-b709-1c265b366901",
   "metadata": {},
   "outputs": [],
   "source": [
    "df =df.sample(5000).drop('link', axis=1).reset_index(drop=True)"
   ]
  },
  {
   "cell_type": "code",
   "execution_count": 57,
   "id": "91cb562e-88a6-4a98-8cf6-d42cfe475503",
   "metadata": {},
   "outputs": [
    {
     "data": {
      "text/html": [
       "<div>\n",
       "<style scoped>\n",
       "    .dataframe tbody tr th:only-of-type {\n",
       "        vertical-align: middle;\n",
       "    }\n",
       "\n",
       "    .dataframe tbody tr th {\n",
       "        vertical-align: top;\n",
       "    }\n",
       "\n",
       "    .dataframe thead th {\n",
       "        text-align: right;\n",
       "    }\n",
       "</style>\n",
       "<table border=\"1\" class=\"dataframe\">\n",
       "  <thead>\n",
       "    <tr style=\"text-align: right;\">\n",
       "      <th></th>\n",
       "      <th>artist</th>\n",
       "      <th>song</th>\n",
       "      <th>text</th>\n",
       "    </tr>\n",
       "  </thead>\n",
       "  <tbody>\n",
       "    <tr>\n",
       "      <th>0</th>\n",
       "      <td>Devo</td>\n",
       "      <td>Plain Truth</td>\n",
       "      <td>Who are you and who am I  \\r\\nExcept a couple ...</td>\n",
       "    </tr>\n",
       "    <tr>\n",
       "      <th>1</th>\n",
       "      <td>Roxette</td>\n",
       "      <td>How Do You Do!</td>\n",
       "      <td>I see you comb your hair and gimme that grin  ...</td>\n",
       "    </tr>\n",
       "    <tr>\n",
       "      <th>2</th>\n",
       "      <td>Doris Day</td>\n",
       "      <td>On Moonlight Bay</td>\n",
       "      <td>We were sailing along on Moonlight Bay  \\r\\nWe...</td>\n",
       "    </tr>\n",
       "    <tr>\n",
       "      <th>3</th>\n",
       "      <td>UB40</td>\n",
       "      <td>Demonstrate</td>\n",
       "      <td>Well Jerry at de mike come fe Demonstrate  \\r\\...</td>\n",
       "    </tr>\n",
       "    <tr>\n",
       "      <th>4</th>\n",
       "      <td>Violent Femmes</td>\n",
       "      <td>Black Girls</td>\n",
       "      <td>I dig the black girls,  \\r\\nOh so much more th...</td>\n",
       "    </tr>\n",
       "    <tr>\n",
       "      <th>5</th>\n",
       "      <td>Status Quo</td>\n",
       "      <td>High Flyer</td>\n",
       "      <td>Here we go another twenty four hours  \\r\\nEver...</td>\n",
       "    </tr>\n",
       "    <tr>\n",
       "      <th>6</th>\n",
       "      <td>Tears For Fears</td>\n",
       "      <td>Always In The Past</td>\n",
       "      <td>Money can't change the way you feel  \\r\\nSmoke...</td>\n",
       "    </tr>\n",
       "    <tr>\n",
       "      <th>7</th>\n",
       "      <td>Used</td>\n",
       "      <td>Kissing You Goodbye</td>\n",
       "      <td>Cut yourself in conversation, cut the line to ...</td>\n",
       "    </tr>\n",
       "    <tr>\n",
       "      <th>8</th>\n",
       "      <td>Z-Ro</td>\n",
       "      <td>Let Me Live My Life</td>\n",
       "      <td>[Z-Ro]  \\r\\nMy life is like a mercy game, duck...</td>\n",
       "    </tr>\n",
       "    <tr>\n",
       "      <th>9</th>\n",
       "      <td>Creedence Clearwater Revival</td>\n",
       "      <td>Someday Never Comes</td>\n",
       "      <td>First thing I remember was asking papa, why,  ...</td>\n",
       "    </tr>\n",
       "  </tbody>\n",
       "</table>\n",
       "</div>"
      ],
      "text/plain": [
       "                         artist                 song  \\\n",
       "0                          Devo          Plain Truth   \n",
       "1                       Roxette       How Do You Do!   \n",
       "2                     Doris Day     On Moonlight Bay   \n",
       "3                          UB40          Demonstrate   \n",
       "4                Violent Femmes          Black Girls   \n",
       "5                    Status Quo           High Flyer   \n",
       "6               Tears For Fears   Always In The Past   \n",
       "7                          Used  Kissing You Goodbye   \n",
       "8                          Z-Ro  Let Me Live My Life   \n",
       "9  Creedence Clearwater Revival  Someday Never Comes   \n",
       "\n",
       "                                                text  \n",
       "0  Who are you and who am I  \\r\\nExcept a couple ...  \n",
       "1  I see you comb your hair and gimme that grin  ...  \n",
       "2  We were sailing along on Moonlight Bay  \\r\\nWe...  \n",
       "3  Well Jerry at de mike come fe Demonstrate  \\r\\...  \n",
       "4  I dig the black girls,  \\r\\nOh so much more th...  \n",
       "5  Here we go another twenty four hours  \\r\\nEver...  \n",
       "6  Money can't change the way you feel  \\r\\nSmoke...  \n",
       "7  Cut yourself in conversation, cut the line to ...  \n",
       "8  [Z-Ro]  \\r\\nMy life is like a mercy game, duck...  \n",
       "9  First thing I remember was asking papa, why,  ...  "
      ]
     },
     "execution_count": 57,
     "metadata": {},
     "output_type": "execute_result"
    }
   ],
   "source": [
    "df.head(10)"
   ]
  },
  {
   "cell_type": "code",
   "execution_count": 58,
   "id": "1b49bae1-6177-4c2c-95db-0ecb46ada2b6",
   "metadata": {},
   "outputs": [
    {
     "data": {
      "text/plain": [
       "\"Who are you and who am I  \\r\\nExcept a couple of people  \\r\\nWasting lots of time  \\r\\nWorrying about the future  \\r\\nForever asking why  \\r\\nSome people go on living  \\r\\nWhile others die before their time  \\r\\nYet there's never been a reason  \\r\\nWhatever is is right  \\r\\nIf only just because  \\r\\nIts much too big a fight  \\r\\nLike the painter who is way ahead  \\r\\nOr worse still far behind  \\r\\nYou only punch yourself out  \\r\\nWhen you start swinging blind  \\r\\nThese are the things too often gone unsaid  \\r\\nThese are the things that keep  \\r\\nYou better off than dead  \\r\\nThese are the things that keep running through your head  \\r\\n  \\r\\nThese are the things too often gone unsaid  \\r\\nWho are you and who am I  \\r\\nExcept a couple of people  \\r\\nWith nothing else to do  \\r\\nBut follow vain obsessions  \\r\\nMaking gestures towards the truth  \\r\\nWhile trying to ignore it  \\r\\nWhen its convenient to  \\r\\nThe symbols we believe in  \\r\\nSometimes turn inside out  \\r\\nReshaping each dimension  \\r\\nWere so sure about  \\r\\nDreams get so frustrated  \\r\\nFantasies turn pranks  \\r\\nA simple ounce of common sense  \\r\\nIs money in the bank.\\r\\n\\r\\n\""
      ]
     },
     "execution_count": 58,
     "metadata": {},
     "output_type": "execute_result"
    }
   ],
   "source": [
    "df['text'][0]"
   ]
  },
  {
   "cell_type": "code",
   "execution_count": 14,
   "id": "8b6cd196-f6a3-4a37-b7c0-737bf7b709e4",
   "metadata": {},
   "outputs": [],
   "source": []
  },
  {
   "cell_type": "code",
   "execution_count": 59,
   "id": "cb2e9611-6123-4351-8ec4-0465e8c6e1fa",
   "metadata": {},
   "outputs": [
    {
     "data": {
      "text/plain": [
       "(5000, 3)"
      ]
     },
     "execution_count": 59,
     "metadata": {},
     "output_type": "execute_result"
    }
   ],
   "source": [
    "df.shape"
   ]
  },
  {
   "cell_type": "markdown",
   "id": "ac4f92b3-caf0-46be-9531-89e3055f4dd5",
   "metadata": {},
   "source": [
    "Text Cleaning / Text Preprocessing"
   ]
  },
  {
   "cell_type": "code",
   "execution_count": 60,
   "id": "724b62b7-cc1c-4d4c-9d83-652b49c51a9f",
   "metadata": {},
   "outputs": [],
   "source": [
    "df['text'] = df['text'].str.lower().replace(r'^\\w\\s', ' ').replace(r'\\n', ' ', regex = True)"
   ]
  },
  {
   "cell_type": "code",
   "execution_count": 61,
   "id": "d203800c-82ad-4a8c-bf4d-4097a80236cb",
   "metadata": {},
   "outputs": [
    {
     "data": {
      "text/html": [
       "<div>\n",
       "<style scoped>\n",
       "    .dataframe tbody tr th:only-of-type {\n",
       "        vertical-align: middle;\n",
       "    }\n",
       "\n",
       "    .dataframe tbody tr th {\n",
       "        vertical-align: top;\n",
       "    }\n",
       "\n",
       "    .dataframe thead th {\n",
       "        text-align: right;\n",
       "    }\n",
       "</style>\n",
       "<table border=\"1\" class=\"dataframe\">\n",
       "  <thead>\n",
       "    <tr style=\"text-align: right;\">\n",
       "      <th></th>\n",
       "      <th>artist</th>\n",
       "      <th>song</th>\n",
       "      <th>text</th>\n",
       "    </tr>\n",
       "  </thead>\n",
       "  <tbody>\n",
       "    <tr>\n",
       "      <th>4995</th>\n",
       "      <td>Natalie Cole</td>\n",
       "      <td>In My Reality</td>\n",
       "      <td>ya yeh ya, heyey ya, oh woh woh woh woh, ah ah...</td>\n",
       "    </tr>\n",
       "    <tr>\n",
       "      <th>4996</th>\n",
       "      <td>Sia</td>\n",
       "      <td>The Fight</td>\n",
       "      <td>we are born  \\r without a care  \\r as we grow ...</td>\n",
       "    </tr>\n",
       "    <tr>\n",
       "      <th>4997</th>\n",
       "      <td>Santana</td>\n",
       "      <td>Tell Me, Are You Tired</td>\n",
       "      <td>what do you do when you're down and out  \\r do...</td>\n",
       "    </tr>\n",
       "    <tr>\n",
       "      <th>4998</th>\n",
       "      <td>Paul McCartney</td>\n",
       "      <td>For No One</td>\n",
       "      <td>you day breaks, your mind aches  \\r you find t...</td>\n",
       "    </tr>\n",
       "    <tr>\n",
       "      <th>4999</th>\n",
       "      <td>Grease</td>\n",
       "      <td>Alma Mater Parody</td>\n",
       "      <td>\"i saw a dead skunk on the highway  \\r and i w...</td>\n",
       "    </tr>\n",
       "  </tbody>\n",
       "</table>\n",
       "</div>"
      ],
      "text/plain": [
       "              artist                    song  \\\n",
       "4995    Natalie Cole           In My Reality   \n",
       "4996             Sia               The Fight   \n",
       "4997         Santana  Tell Me, Are You Tired   \n",
       "4998  Paul McCartney              For No One   \n",
       "4999          Grease       Alma Mater Parody   \n",
       "\n",
       "                                                   text  \n",
       "4995  ya yeh ya, heyey ya, oh woh woh woh woh, ah ah...  \n",
       "4996  we are born  \\r without a care  \\r as we grow ...  \n",
       "4997  what do you do when you're down and out  \\r do...  \n",
       "4998  you day breaks, your mind aches  \\r you find t...  \n",
       "4999  \"i saw a dead skunk on the highway  \\r and i w...  "
      ]
     },
     "execution_count": 61,
     "metadata": {},
     "output_type": "execute_result"
    }
   ],
   "source": [
    "df.tail(5)"
   ]
  },
  {
   "cell_type": "code",
   "execution_count": 62,
   "id": "274e1a24-b43f-4282-a86c-f6363c970754",
   "metadata": {},
   "outputs": [],
   "source": [
    "import nltk\n",
    "from nltk.stem.porter import PorterStemmer"
   ]
  },
  {
   "cell_type": "code",
   "execution_count": 63,
   "id": "1c862f5a-e213-4d47-9e19-5b64e8e079f6",
   "metadata": {},
   "outputs": [],
   "source": [
    "stemmer = PorterStemmer()"
   ]
  },
  {
   "cell_type": "code",
   "execution_count": 64,
   "id": "9597e1cd-3ad2-4f73-9f11-421efcf54e6e",
   "metadata": {},
   "outputs": [],
   "source": [
    "def token(txt):\n",
    "    token = nltk.word_tokenize(txt)\n",
    "    a = [stemmer.stem(w) for w in token]\n",
    "    return \" \".join(a)"
   ]
  },
  {
   "cell_type": "code",
   "execution_count": 65,
   "id": "2cc66453-8e1c-4e97-8dd5-83fbc0694ecf",
   "metadata": {},
   "outputs": [
    {
     "data": {
      "text/plain": [
       "'you are beati , beauti'"
      ]
     },
     "execution_count": 65,
     "metadata": {},
     "output_type": "execute_result"
    }
   ],
   "source": [
    "token(\"you are beatiful, beauti\")"
   ]
  },
  {
   "cell_type": "code",
   "execution_count": 66,
   "id": "720cc1fd-4271-4e54-8cae-c4e2554d9f2b",
   "metadata": {},
   "outputs": [
    {
     "data": {
      "text/plain": [
       "0       who are you and who am i except a coupl of peo...\n",
       "1       i see you comb your hair and gim me that grin ...\n",
       "2       we were sail along on moonlight bay we could h...\n",
       "3       well jerri at de mike come fe demonstr ye , je...\n",
       "4       i dig the black girl , oh so much more than th...\n",
       "                              ...                        \n",
       "4995    ya yeh ya , heyey ya , oh woh woh woh woh , ah...\n",
       "4996    we are born without a care as we grow old but ...\n",
       "4997    what do you do when you 're down and out do yo...\n",
       "4998    you day break , your mind ach you find that al...\n",
       "4999    `` i saw a dead skunk on the highway and i wa ...\n",
       "Name: text, Length: 5000, dtype: object"
      ]
     },
     "execution_count": 66,
     "metadata": {},
     "output_type": "execute_result"
    }
   ],
   "source": [
    "df['text'].apply(lambda x: token(x))"
   ]
  },
  {
   "cell_type": "code",
   "execution_count": 67,
   "id": "7a1e4d23-0dd4-4735-98aa-60c2191938d3",
   "metadata": {},
   "outputs": [],
   "source": [
    "from sklearn.feature_extraction.text import TfidfVectorizer\n",
    "from sklearn.metrics.pairwise import cosine_similarity"
   ]
  },
  {
   "cell_type": "code",
   "execution_count": 68,
   "id": "8df05bf1-bf40-4470-9a66-09ead976fe90",
   "metadata": {},
   "outputs": [],
   "source": [
    "tfid = TfidfVectorizer(analyzer='word',stop_words='english')"
   ]
  },
  {
   "cell_type": "code",
   "execution_count": 69,
   "id": "2a1e82f8-bfbc-4a8d-8e36-75eb4556e221",
   "metadata": {},
   "outputs": [],
   "source": [
    "matrix = tfid.fit_transform(df['text'])"
   ]
  },
  {
   "cell_type": "code",
   "execution_count": 70,
   "id": "5c83d670-451c-4624-889a-b45010c7ef0a",
   "metadata": {},
   "outputs": [],
   "source": [
    "similer = cosine_similarity(matrix)"
   ]
  },
  {
   "cell_type": "code",
   "execution_count": 71,
   "id": "9e2862a9-38d8-48fc-851e-901c69ea9713",
   "metadata": {},
   "outputs": [
    {
     "data": {
      "text/plain": [
       "array([0.06957793, 1.        , 0.02884437, ..., 0.01257093, 0.01681317,\n",
       "       0.01268902])"
      ]
     },
     "execution_count": 71,
     "metadata": {},
     "output_type": "execute_result"
    }
   ],
   "source": [
    "similer[1]"
   ]
  },
  {
   "cell_type": "code",
   "execution_count": 73,
   "id": "fedc066f-7df6-40ef-b4d7-2c7e73b90953",
   "metadata": {},
   "outputs": [
    {
     "data": {
      "text/plain": [
       "4995"
      ]
     },
     "execution_count": 73,
     "metadata": {},
     "output_type": "execute_result"
    }
   ],
   "source": [
    "df[df['song']=='In My Reality'].index[0]"
   ]
  },
  {
   "cell_type": "markdown",
   "id": "a14059b7-e17b-4d8a-8be3-9e0d5778afaa",
   "metadata": {},
   "source": [
    "Recommender Function"
   ]
  },
  {
   "cell_type": "code",
   "execution_count": 78,
   "id": "6d2e82d3-af59-4d58-9039-b5efb21f8bfa",
   "metadata": {},
   "outputs": [],
   "source": [
    "def recommendation(song_name):\n",
    "    idx = df[df['song'] == song_name].index[0]\n",
    "    distance = sorted(list(enumerate(similer[idx])),reverse=True,key=lambda x:x[1])\n",
    "    \n",
    "    songs = []\n",
    "    for s_id in distance[1:21]:\n",
    "        songs.append(df.iloc[s_id[0]].song)\n",
    "        \n",
    "    return songs"
   ]
  },
  {
   "cell_type": "code",
   "execution_count": 79,
   "id": "b164e413-63e3-4e0b-b608-f8908815b959",
   "metadata": {},
   "outputs": [
    {
     "data": {
      "text/plain": [
       "['Walk On Down',\n",
       " \"Stuck On Fuckin' You\",\n",
       " \"Blowin' In The Wind\",\n",
       " 'Catch The Next Dream',\n",
       " 'Dead In The Water',\n",
       " 'Dead Man',\n",
       " \"Blowin' In The Wind\",\n",
       " 'Just Across The Way',\n",
       " 'Where Them Girls At',\n",
       " 'The Ride',\n",
       " 'Summer Breeze',\n",
       " \"Blazin' Your Own Trail Again\",\n",
       " 'Fire And Rain',\n",
       " 'Worth Fighting For',\n",
       " 'Back To The Old House',\n",
       " 'Crazy Feeling',\n",
       " \"Baby, There's Nothing Like You\",\n",
       " 'The Way You Move',\n",
       " 'Mr. Jinx',\n",
       " 'Crazy']"
      ]
     },
     "execution_count": 79,
     "metadata": {},
     "output_type": "execute_result"
    }
   ],
   "source": [
    "recommendation('Alma Mater Parody')"
   ]
  },
  {
   "cell_type": "code",
   "execution_count": 80,
   "id": "74e1cc15-2375-489a-a58e-92456eae6d2e",
   "metadata": {},
   "outputs": [],
   "source": [
    "import pickle"
   ]
  },
  {
   "cell_type": "code",
   "execution_count": 83,
   "id": "3fe3784f-f408-4068-89e9-2df0952a1af1",
   "metadata": {},
   "outputs": [],
   "source": [
    "pickle.dump(similer,open('similarity.pkl','wb'))"
   ]
  },
  {
   "cell_type": "code",
   "execution_count": 85,
   "id": "35db0ae2-b077-415c-acd1-890bffdd7f86",
   "metadata": {},
   "outputs": [],
   "source": [
    "pickle.dump(df,open('df.pkl','wb'))"
   ]
  }
 ],
 "metadata": {
  "kernelspec": {
   "display_name": "Python 3 (ipykernel)",
   "language": "python",
   "name": "python3"
  },
  "language_info": {
   "codemirror_mode": {
    "name": "ipython",
    "version": 3
   },
   "file_extension": ".py",
   "mimetype": "text/x-python",
   "name": "python",
   "nbconvert_exporter": "python",
   "pygments_lexer": "ipython3",
   "version": "3.12.3"
  }
 },
 "nbformat": 4,
 "nbformat_minor": 5
}
